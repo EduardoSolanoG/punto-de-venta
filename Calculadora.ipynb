{
  "cells": [
    {
      "cell_type": "markdown",
      "metadata": {
        "id": "view-in-github",
        "colab_type": "text"
      },
      "source": [
        "<a href=\"https://colab.research.google.com/github/EduardoSolanoG/punto-de-venta/blob/master/Calculadora.ipynb\" target=\"_parent\"><img src=\"https://colab.research.google.com/assets/colab-badge.svg\" alt=\"Open In Colab\"/></a>"
      ]
    },
    {
      "cell_type": "code",
      "execution_count": 1,
      "metadata": {
        "colab": {
          "base_uri": "https://localhost:8080/"
        },
        "id": "ujvLgQiRXLq0",
        "outputId": "88a47f25-a304-4c0d-8894-7bbe96199e57"
      },
      "outputs": [
        {
          "output_type": "stream",
          "name": "stdout",
          "text": [
            "Calculadora activa. Escribe 'salir' para terminar. \n",
            " \n",
            "Ingresa la operación (ejemplo: 5 + 5)5+5\n",
            "Resultado 10.0\n",
            "Ingresa la operación (ejemplo: 5 + 5)2*2\n",
            "Resultado 4.0\n",
            "Ingresa la operación (ejemplo: 5 + 5)Salir\n",
            "¡Hasta pronto!\n"
          ]
        }
      ],
      "source": [
        "#Calculadora\n",
        "\n",
        "class calculadora:\n",
        "  def __init__(self, numero1, numero2):\n",
        "    self._numero1 = numero1\n",
        "    self._numero2 = numero2\n",
        "\n",
        "  @property\n",
        "  def numero1(self):\n",
        "    return self._numero1\n",
        "\n",
        "  @property\n",
        "  def numero2(self):\n",
        "    return self._numero2\n",
        "\n",
        "  @numero1.setter\n",
        "  def numero1(self, nuevo_numero1):\n",
        "    if isinstance(nuevo_numero1,(int, float)):\n",
        "        self._numero1 = nuevo_numero1\n",
        "    else:\n",
        "      raise ValueError(\"El numero 1 debe ser un numero entero o decimal\")\n",
        "\n",
        "  @numero2.setter\n",
        "  def numero2(self, nuevo_numero2):\n",
        "    if isinstance(nuevo_numero2, (int, float)):\n",
        "        self._numero2 = nuevo_numero2\n",
        "    else:\n",
        "      raise ValueError(\"El numero 2 debe ser un numero entero o decimal\")\n",
        "\n",
        "  def sumar(self):\n",
        "    return self.numero1 + self.numero2\n",
        "\n",
        "  def restar(self):\n",
        "    return self.numero1 - self.numero2\n",
        "\n",
        "  def multiplicar(self):\n",
        "    return self.numero1 * self.numero2\n",
        "\n",
        "  def dividir(self):\n",
        "    if self.numero2 == 0:\n",
        "      return \"Error: No se puede dividir entre 0\"\n",
        "    return self.numero1 / self.numero2\n",
        "\n",
        "\n",
        "\n",
        "\n",
        "\n",
        "def interpretar_expresion(expresion):\n",
        "  for operador in ['+', '-', '*', '/']:\n",
        "    if operador in expresion:\n",
        "      partes = expresion.split(operador)\n",
        "      if len(partes) ==2:\n",
        "        try:\n",
        "          num1 =float(partes[0].strip())\n",
        "          num2 =float(partes[1].strip())\n",
        "\n",
        "          return num1, num2, operador\n",
        "        except ValueError:\n",
        "          return None\n",
        "  return None\n",
        "\n",
        "\n",
        "if __name__ == \"__main__\":\n",
        "  print(\"Calculadora activa. Escribe 'salir' para terminar. \\n \")\n",
        "\n",
        "  while True:\n",
        "    entrada =input(\"Ingresa la operación (ejemplo: 5 + 5)\")\n",
        "\n",
        "    if entrada.strip().lower()==\"salir\":\n",
        "      print(\"¡Hasta pronto!\")\n",
        "      break\n",
        "\n",
        "    resultado =interpretar_expresion(entrada)\n",
        "    if not resultado:\n",
        "      print(\"Expresión no válida. Usa el formato: número operador número (ej. 5+5)\\n\")\n",
        "      continue\n",
        "\n",
        "    num1, num2, operador = resultado\n",
        "    calc = calculadora(num1, num2)\n",
        "    operaciones = {\n",
        "        \"+\": calc.sumar,\n",
        "        \"-\": calc.restar,\n",
        "        \"*\": calc.multiplicar,\n",
        "        \"/\": calc.dividir\n",
        "    }\n",
        "\n",
        "    operacion = operaciones.get(operador)\n",
        "    print(\"Resultado\", operacion())"
      ]
    }
  ],
  "metadata": {
    "colab": {
      "provenance": [],
      "include_colab_link": true
    },
    "kernelspec": {
      "display_name": "Python 3",
      "name": "python3"
    },
    "language_info": {
      "name": "python"
    }
  },
  "nbformat": 4,
  "nbformat_minor": 0
}